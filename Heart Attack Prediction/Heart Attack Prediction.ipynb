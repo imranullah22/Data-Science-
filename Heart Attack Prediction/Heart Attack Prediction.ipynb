{
 "cells": [
  {
   "cell_type": "markdown",
   "metadata": {},
   "source": [
    "# Heart Attack Prediction"
   ]
  },
  {
   "cell_type": "markdown",
   "metadata": {},
   "source": [
    "## Import Libraries"
   ]
  },
  {
   "cell_type": "code",
   "execution_count": 2,
   "metadata": {},
   "outputs": [],
   "source": [
    "import numpy as np \n",
    "import pandas as pd\n",
    "import pandera as pa\n",
    "from numpy import mean\n",
    "from sklearn.model_selection import KFold\n",
    "from sklearn.tree import DecisionTreeClassifier\n",
    "import seaborn as sns\n",
    "%matplotlib inline\n",
    "from sklearn.svm import LinearSVC\n",
    "import random\n",
    "import matplotlib.pyplot as plt\n",
    "from sklearn.linear_model import LogisticRegression\n",
    "from sklearn import metrics\n",
    "from sklearn.cluster import KMeans\n",
    "import plotly.express as px\n",
    "from sklearn.ensemble import RandomForestClassifier\n",
    "from sklearn.metrics import confusion_matrix, accuracy_score, roc_auc_score, roc_curve\n",
    "from sklearn.metrics import classification_report, confusion_matrix, accuracy_score\n",
    "from sklearn.model_selection import train_test_split\n",
    "from sklearn import preprocessing\n",
    "from sklearn.preprocessing import StandardScaler\n",
    "from sklearn.preprocessing import MinMaxScaler\n",
    "from sklearn.metrics import roc_curve\n",
    "from sklearn.metrics import roc_curve, roc_auc_score\n",
    "import warnings\n",
    "warnings.filterwarnings(\"ignore\")"
   ]
  },
  {
   "cell_type": "markdown",
   "metadata": {},
   "source": [
    "## Load Dataset "
   ]
  },
  {
   "cell_type": "code",
   "execution_count": 3,
   "metadata": {},
   "outputs": [
    {
     "data": {
      "text/html": [
       "<div>\n",
       "<style scoped>\n",
       "    .dataframe tbody tr th:only-of-type {\n",
       "        vertical-align: middle;\n",
       "    }\n",
       "\n",
       "    .dataframe tbody tr th {\n",
       "        vertical-align: top;\n",
       "    }\n",
       "\n",
       "    .dataframe thead th {\n",
       "        text-align: right;\n",
       "    }\n",
       "</style>\n",
       "<table border=\"1\" class=\"dataframe\">\n",
       "  <thead>\n",
       "    <tr style=\"text-align: right;\">\n",
       "      <th></th>\n",
       "      <th>age</th>\n",
       "      <th>sex</th>\n",
       "      <th>cp</th>\n",
       "      <th>trtbps</th>\n",
       "      <th>chol</th>\n",
       "      <th>fbs</th>\n",
       "      <th>restecg</th>\n",
       "      <th>thalachh</th>\n",
       "      <th>exng</th>\n",
       "      <th>oldpeak</th>\n",
       "      <th>slp</th>\n",
       "      <th>caa</th>\n",
       "      <th>thall</th>\n",
       "      <th>output</th>\n",
       "    </tr>\n",
       "  </thead>\n",
       "  <tbody>\n",
       "    <tr>\n",
       "      <th>0</th>\n",
       "      <td>63</td>\n",
       "      <td>1</td>\n",
       "      <td>3</td>\n",
       "      <td>145</td>\n",
       "      <td>233</td>\n",
       "      <td>1</td>\n",
       "      <td>0</td>\n",
       "      <td>150</td>\n",
       "      <td>0</td>\n",
       "      <td>2.3</td>\n",
       "      <td>0</td>\n",
       "      <td>0</td>\n",
       "      <td>1</td>\n",
       "      <td>1</td>\n",
       "    </tr>\n",
       "    <tr>\n",
       "      <th>1</th>\n",
       "      <td>37</td>\n",
       "      <td>1</td>\n",
       "      <td>2</td>\n",
       "      <td>130</td>\n",
       "      <td>250</td>\n",
       "      <td>0</td>\n",
       "      <td>1</td>\n",
       "      <td>187</td>\n",
       "      <td>0</td>\n",
       "      <td>3.5</td>\n",
       "      <td>0</td>\n",
       "      <td>0</td>\n",
       "      <td>2</td>\n",
       "      <td>1</td>\n",
       "    </tr>\n",
       "    <tr>\n",
       "      <th>2</th>\n",
       "      <td>41</td>\n",
       "      <td>0</td>\n",
       "      <td>1</td>\n",
       "      <td>130</td>\n",
       "      <td>204</td>\n",
       "      <td>0</td>\n",
       "      <td>0</td>\n",
       "      <td>172</td>\n",
       "      <td>0</td>\n",
       "      <td>1.4</td>\n",
       "      <td>2</td>\n",
       "      <td>0</td>\n",
       "      <td>2</td>\n",
       "      <td>1</td>\n",
       "    </tr>\n",
       "    <tr>\n",
       "      <th>3</th>\n",
       "      <td>56</td>\n",
       "      <td>1</td>\n",
       "      <td>1</td>\n",
       "      <td>120</td>\n",
       "      <td>236</td>\n",
       "      <td>0</td>\n",
       "      <td>1</td>\n",
       "      <td>178</td>\n",
       "      <td>0</td>\n",
       "      <td>0.8</td>\n",
       "      <td>2</td>\n",
       "      <td>0</td>\n",
       "      <td>2</td>\n",
       "      <td>1</td>\n",
       "    </tr>\n",
       "    <tr>\n",
       "      <th>4</th>\n",
       "      <td>57</td>\n",
       "      <td>0</td>\n",
       "      <td>0</td>\n",
       "      <td>120</td>\n",
       "      <td>354</td>\n",
       "      <td>0</td>\n",
       "      <td>1</td>\n",
       "      <td>163</td>\n",
       "      <td>1</td>\n",
       "      <td>0.6</td>\n",
       "      <td>2</td>\n",
       "      <td>0</td>\n",
       "      <td>2</td>\n",
       "      <td>1</td>\n",
       "    </tr>\n",
       "    <tr>\n",
       "      <th>...</th>\n",
       "      <td>...</td>\n",
       "      <td>...</td>\n",
       "      <td>...</td>\n",
       "      <td>...</td>\n",
       "      <td>...</td>\n",
       "      <td>...</td>\n",
       "      <td>...</td>\n",
       "      <td>...</td>\n",
       "      <td>...</td>\n",
       "      <td>...</td>\n",
       "      <td>...</td>\n",
       "      <td>...</td>\n",
       "      <td>...</td>\n",
       "      <td>...</td>\n",
       "    </tr>\n",
       "    <tr>\n",
       "      <th>298</th>\n",
       "      <td>57</td>\n",
       "      <td>0</td>\n",
       "      <td>0</td>\n",
       "      <td>140</td>\n",
       "      <td>241</td>\n",
       "      <td>0</td>\n",
       "      <td>1</td>\n",
       "      <td>123</td>\n",
       "      <td>1</td>\n",
       "      <td>0.2</td>\n",
       "      <td>1</td>\n",
       "      <td>0</td>\n",
       "      <td>3</td>\n",
       "      <td>0</td>\n",
       "    </tr>\n",
       "    <tr>\n",
       "      <th>299</th>\n",
       "      <td>45</td>\n",
       "      <td>1</td>\n",
       "      <td>3</td>\n",
       "      <td>110</td>\n",
       "      <td>264</td>\n",
       "      <td>0</td>\n",
       "      <td>1</td>\n",
       "      <td>132</td>\n",
       "      <td>0</td>\n",
       "      <td>1.2</td>\n",
       "      <td>1</td>\n",
       "      <td>0</td>\n",
       "      <td>3</td>\n",
       "      <td>0</td>\n",
       "    </tr>\n",
       "    <tr>\n",
       "      <th>300</th>\n",
       "      <td>68</td>\n",
       "      <td>1</td>\n",
       "      <td>0</td>\n",
       "      <td>144</td>\n",
       "      <td>193</td>\n",
       "      <td>1</td>\n",
       "      <td>1</td>\n",
       "      <td>141</td>\n",
       "      <td>0</td>\n",
       "      <td>3.4</td>\n",
       "      <td>1</td>\n",
       "      <td>2</td>\n",
       "      <td>3</td>\n",
       "      <td>0</td>\n",
       "    </tr>\n",
       "    <tr>\n",
       "      <th>301</th>\n",
       "      <td>57</td>\n",
       "      <td>1</td>\n",
       "      <td>0</td>\n",
       "      <td>130</td>\n",
       "      <td>131</td>\n",
       "      <td>0</td>\n",
       "      <td>1</td>\n",
       "      <td>115</td>\n",
       "      <td>1</td>\n",
       "      <td>1.2</td>\n",
       "      <td>1</td>\n",
       "      <td>1</td>\n",
       "      <td>3</td>\n",
       "      <td>0</td>\n",
       "    </tr>\n",
       "    <tr>\n",
       "      <th>302</th>\n",
       "      <td>57</td>\n",
       "      <td>0</td>\n",
       "      <td>1</td>\n",
       "      <td>130</td>\n",
       "      <td>236</td>\n",
       "      <td>0</td>\n",
       "      <td>0</td>\n",
       "      <td>174</td>\n",
       "      <td>0</td>\n",
       "      <td>0.0</td>\n",
       "      <td>1</td>\n",
       "      <td>1</td>\n",
       "      <td>2</td>\n",
       "      <td>0</td>\n",
       "    </tr>\n",
       "  </tbody>\n",
       "</table>\n",
       "<p>303 rows × 14 columns</p>\n",
       "</div>"
      ],
      "text/plain": [
       "     age  sex  cp  trtbps  chol  fbs  restecg  thalachh  exng  oldpeak  slp  \\\n",
       "0     63    1   3     145   233    1        0       150     0      2.3    0   \n",
       "1     37    1   2     130   250    0        1       187     0      3.5    0   \n",
       "2     41    0   1     130   204    0        0       172     0      1.4    2   \n",
       "3     56    1   1     120   236    0        1       178     0      0.8    2   \n",
       "4     57    0   0     120   354    0        1       163     1      0.6    2   \n",
       "..   ...  ...  ..     ...   ...  ...      ...       ...   ...      ...  ...   \n",
       "298   57    0   0     140   241    0        1       123     1      0.2    1   \n",
       "299   45    1   3     110   264    0        1       132     0      1.2    1   \n",
       "300   68    1   0     144   193    1        1       141     0      3.4    1   \n",
       "301   57    1   0     130   131    0        1       115     1      1.2    1   \n",
       "302   57    0   1     130   236    0        0       174     0      0.0    1   \n",
       "\n",
       "     caa  thall  output  \n",
       "0      0      1       1  \n",
       "1      0      2       1  \n",
       "2      0      2       1  \n",
       "3      0      2       1  \n",
       "4      0      2       1  \n",
       "..   ...    ...     ...  \n",
       "298    0      3       0  \n",
       "299    0      3       0  \n",
       "300    2      3       0  \n",
       "301    1      3       0  \n",
       "302    1      2       0  \n",
       "\n",
       "[303 rows x 14 columns]"
      ]
     },
     "execution_count": 3,
     "metadata": {},
     "output_type": "execute_result"
    }
   ],
   "source": [
    "Df = pd.read_csv(\"Classification.csv\")\n",
    "Df"
   ]
  },
  {
   "cell_type": "markdown",
   "metadata": {},
   "source": [
    "## Copy Dataset"
   ]
  },
  {
   "cell_type": "code",
   "execution_count": 4,
   "metadata": {},
   "outputs": [
    {
     "data": {
      "text/html": [
       "<div>\n",
       "<style scoped>\n",
       "    .dataframe tbody tr th:only-of-type {\n",
       "        vertical-align: middle;\n",
       "    }\n",
       "\n",
       "    .dataframe tbody tr th {\n",
       "        vertical-align: top;\n",
       "    }\n",
       "\n",
       "    .dataframe thead th {\n",
       "        text-align: right;\n",
       "    }\n",
       "</style>\n",
       "<table border=\"1\" class=\"dataframe\">\n",
       "  <thead>\n",
       "    <tr style=\"text-align: right;\">\n",
       "      <th></th>\n",
       "      <th>age</th>\n",
       "      <th>sex</th>\n",
       "      <th>cp</th>\n",
       "      <th>trtbps</th>\n",
       "      <th>chol</th>\n",
       "      <th>fbs</th>\n",
       "      <th>restecg</th>\n",
       "      <th>thalachh</th>\n",
       "      <th>exng</th>\n",
       "      <th>oldpeak</th>\n",
       "      <th>slp</th>\n",
       "      <th>caa</th>\n",
       "      <th>thall</th>\n",
       "      <th>output</th>\n",
       "    </tr>\n",
       "  </thead>\n",
       "  <tbody>\n",
       "    <tr>\n",
       "      <th>0</th>\n",
       "      <td>63</td>\n",
       "      <td>1</td>\n",
       "      <td>3</td>\n",
       "      <td>145</td>\n",
       "      <td>233</td>\n",
       "      <td>1</td>\n",
       "      <td>0</td>\n",
       "      <td>150</td>\n",
       "      <td>0</td>\n",
       "      <td>2.3</td>\n",
       "      <td>0</td>\n",
       "      <td>0</td>\n",
       "      <td>1</td>\n",
       "      <td>1</td>\n",
       "    </tr>\n",
       "    <tr>\n",
       "      <th>1</th>\n",
       "      <td>37</td>\n",
       "      <td>1</td>\n",
       "      <td>2</td>\n",
       "      <td>130</td>\n",
       "      <td>250</td>\n",
       "      <td>0</td>\n",
       "      <td>1</td>\n",
       "      <td>187</td>\n",
       "      <td>0</td>\n",
       "      <td>3.5</td>\n",
       "      <td>0</td>\n",
       "      <td>0</td>\n",
       "      <td>2</td>\n",
       "      <td>1</td>\n",
       "    </tr>\n",
       "    <tr>\n",
       "      <th>2</th>\n",
       "      <td>41</td>\n",
       "      <td>0</td>\n",
       "      <td>1</td>\n",
       "      <td>130</td>\n",
       "      <td>204</td>\n",
       "      <td>0</td>\n",
       "      <td>0</td>\n",
       "      <td>172</td>\n",
       "      <td>0</td>\n",
       "      <td>1.4</td>\n",
       "      <td>2</td>\n",
       "      <td>0</td>\n",
       "      <td>2</td>\n",
       "      <td>1</td>\n",
       "    </tr>\n",
       "    <tr>\n",
       "      <th>3</th>\n",
       "      <td>56</td>\n",
       "      <td>1</td>\n",
       "      <td>1</td>\n",
       "      <td>120</td>\n",
       "      <td>236</td>\n",
       "      <td>0</td>\n",
       "      <td>1</td>\n",
       "      <td>178</td>\n",
       "      <td>0</td>\n",
       "      <td>0.8</td>\n",
       "      <td>2</td>\n",
       "      <td>0</td>\n",
       "      <td>2</td>\n",
       "      <td>1</td>\n",
       "    </tr>\n",
       "    <tr>\n",
       "      <th>4</th>\n",
       "      <td>57</td>\n",
       "      <td>0</td>\n",
       "      <td>0</td>\n",
       "      <td>120</td>\n",
       "      <td>354</td>\n",
       "      <td>0</td>\n",
       "      <td>1</td>\n",
       "      <td>163</td>\n",
       "      <td>1</td>\n",
       "      <td>0.6</td>\n",
       "      <td>2</td>\n",
       "      <td>0</td>\n",
       "      <td>2</td>\n",
       "      <td>1</td>\n",
       "    </tr>\n",
       "    <tr>\n",
       "      <th>...</th>\n",
       "      <td>...</td>\n",
       "      <td>...</td>\n",
       "      <td>...</td>\n",
       "      <td>...</td>\n",
       "      <td>...</td>\n",
       "      <td>...</td>\n",
       "      <td>...</td>\n",
       "      <td>...</td>\n",
       "      <td>...</td>\n",
       "      <td>...</td>\n",
       "      <td>...</td>\n",
       "      <td>...</td>\n",
       "      <td>...</td>\n",
       "      <td>...</td>\n",
       "    </tr>\n",
       "    <tr>\n",
       "      <th>298</th>\n",
       "      <td>57</td>\n",
       "      <td>0</td>\n",
       "      <td>0</td>\n",
       "      <td>140</td>\n",
       "      <td>241</td>\n",
       "      <td>0</td>\n",
       "      <td>1</td>\n",
       "      <td>123</td>\n",
       "      <td>1</td>\n",
       "      <td>0.2</td>\n",
       "      <td>1</td>\n",
       "      <td>0</td>\n",
       "      <td>3</td>\n",
       "      <td>0</td>\n",
       "    </tr>\n",
       "    <tr>\n",
       "      <th>299</th>\n",
       "      <td>45</td>\n",
       "      <td>1</td>\n",
       "      <td>3</td>\n",
       "      <td>110</td>\n",
       "      <td>264</td>\n",
       "      <td>0</td>\n",
       "      <td>1</td>\n",
       "      <td>132</td>\n",
       "      <td>0</td>\n",
       "      <td>1.2</td>\n",
       "      <td>1</td>\n",
       "      <td>0</td>\n",
       "      <td>3</td>\n",
       "      <td>0</td>\n",
       "    </tr>\n",
       "    <tr>\n",
       "      <th>300</th>\n",
       "      <td>68</td>\n",
       "      <td>1</td>\n",
       "      <td>0</td>\n",
       "      <td>144</td>\n",
       "      <td>193</td>\n",
       "      <td>1</td>\n",
       "      <td>1</td>\n",
       "      <td>141</td>\n",
       "      <td>0</td>\n",
       "      <td>3.4</td>\n",
       "      <td>1</td>\n",
       "      <td>2</td>\n",
       "      <td>3</td>\n",
       "      <td>0</td>\n",
       "    </tr>\n",
       "    <tr>\n",
       "      <th>301</th>\n",
       "      <td>57</td>\n",
       "      <td>1</td>\n",
       "      <td>0</td>\n",
       "      <td>130</td>\n",
       "      <td>131</td>\n",
       "      <td>0</td>\n",
       "      <td>1</td>\n",
       "      <td>115</td>\n",
       "      <td>1</td>\n",
       "      <td>1.2</td>\n",
       "      <td>1</td>\n",
       "      <td>1</td>\n",
       "      <td>3</td>\n",
       "      <td>0</td>\n",
       "    </tr>\n",
       "    <tr>\n",
       "      <th>302</th>\n",
       "      <td>57</td>\n",
       "      <td>0</td>\n",
       "      <td>1</td>\n",
       "      <td>130</td>\n",
       "      <td>236</td>\n",
       "      <td>0</td>\n",
       "      <td>0</td>\n",
       "      <td>174</td>\n",
       "      <td>0</td>\n",
       "      <td>0.0</td>\n",
       "      <td>1</td>\n",
       "      <td>1</td>\n",
       "      <td>2</td>\n",
       "      <td>0</td>\n",
       "    </tr>\n",
       "  </tbody>\n",
       "</table>\n",
       "<p>303 rows × 14 columns</p>\n",
       "</div>"
      ],
      "text/plain": [
       "     age  sex  cp  trtbps  chol  fbs  restecg  thalachh  exng  oldpeak  slp  \\\n",
       "0     63    1   3     145   233    1        0       150     0      2.3    0   \n",
       "1     37    1   2     130   250    0        1       187     0      3.5    0   \n",
       "2     41    0   1     130   204    0        0       172     0      1.4    2   \n",
       "3     56    1   1     120   236    0        1       178     0      0.8    2   \n",
       "4     57    0   0     120   354    0        1       163     1      0.6    2   \n",
       "..   ...  ...  ..     ...   ...  ...      ...       ...   ...      ...  ...   \n",
       "298   57    0   0     140   241    0        1       123     1      0.2    1   \n",
       "299   45    1   3     110   264    0        1       132     0      1.2    1   \n",
       "300   68    1   0     144   193    1        1       141     0      3.4    1   \n",
       "301   57    1   0     130   131    0        1       115     1      1.2    1   \n",
       "302   57    0   1     130   236    0        0       174     0      0.0    1   \n",
       "\n",
       "     caa  thall  output  \n",
       "0      0      1       1  \n",
       "1      0      2       1  \n",
       "2      0      2       1  \n",
       "3      0      2       1  \n",
       "4      0      2       1  \n",
       "..   ...    ...     ...  \n",
       "298    0      3       0  \n",
       "299    0      3       0  \n",
       "300    2      3       0  \n",
       "301    1      3       0  \n",
       "302    1      2       0  \n",
       "\n",
       "[303 rows x 14 columns]"
      ]
     },
     "execution_count": 4,
     "metadata": {},
     "output_type": "execute_result"
    }
   ],
   "source": [
    "Df.copy()"
   ]
  },
  {
   "cell_type": "markdown",
   "metadata": {},
   "source": [
    "## Perform Data Validation Checks (all that are necessary e.g null check etc)"
   ]
  },
  {
   "cell_type": "code",
   "execution_count": 5,
   "metadata": {},
   "outputs": [
    {
     "data": {
      "text/plain": [
       "age         0\n",
       "sex         0\n",
       "cp          0\n",
       "trtbps      0\n",
       "chol        0\n",
       "fbs         0\n",
       "restecg     0\n",
       "thalachh    0\n",
       "exng        0\n",
       "oldpeak     0\n",
       "slp         0\n",
       "caa         0\n",
       "thall       0\n",
       "output      0\n",
       "dtype: int64"
      ]
     },
     "execution_count": 5,
     "metadata": {},
     "output_type": "execute_result"
    }
   ],
   "source": [
    "Df.isna().sum()"
   ]
  },
  {
   "cell_type": "code",
   "execution_count": 6,
   "metadata": {},
   "outputs": [
    {
     "data": {
      "text/html": [
       "<div>\n",
       "<style scoped>\n",
       "    .dataframe tbody tr th:only-of-type {\n",
       "        vertical-align: middle;\n",
       "    }\n",
       "\n",
       "    .dataframe tbody tr th {\n",
       "        vertical-align: top;\n",
       "    }\n",
       "\n",
       "    .dataframe thead th {\n",
       "        text-align: right;\n",
       "    }\n",
       "</style>\n",
       "<table border=\"1\" class=\"dataframe\">\n",
       "  <thead>\n",
       "    <tr style=\"text-align: right;\">\n",
       "      <th></th>\n",
       "      <th>age</th>\n",
       "      <th>sex</th>\n",
       "      <th>cp</th>\n",
       "      <th>trtbps</th>\n",
       "      <th>chol</th>\n",
       "      <th>fbs</th>\n",
       "      <th>restecg</th>\n",
       "      <th>thalachh</th>\n",
       "      <th>exng</th>\n",
       "      <th>oldpeak</th>\n",
       "      <th>slp</th>\n",
       "      <th>caa</th>\n",
       "      <th>thall</th>\n",
       "      <th>output</th>\n",
       "    </tr>\n",
       "  </thead>\n",
       "  <tbody>\n",
       "    <tr>\n",
       "      <th>count</th>\n",
       "      <td>303.000000</td>\n",
       "      <td>303.000000</td>\n",
       "      <td>303.000000</td>\n",
       "      <td>303.000000</td>\n",
       "      <td>303.000000</td>\n",
       "      <td>303.000000</td>\n",
       "      <td>303.000000</td>\n",
       "      <td>303.000000</td>\n",
       "      <td>303.000000</td>\n",
       "      <td>303.000000</td>\n",
       "      <td>303.000000</td>\n",
       "      <td>303.000000</td>\n",
       "      <td>303.000000</td>\n",
       "      <td>303.000000</td>\n",
       "    </tr>\n",
       "    <tr>\n",
       "      <th>mean</th>\n",
       "      <td>54.366337</td>\n",
       "      <td>0.683168</td>\n",
       "      <td>0.966997</td>\n",
       "      <td>131.623762</td>\n",
       "      <td>246.264026</td>\n",
       "      <td>0.148515</td>\n",
       "      <td>0.528053</td>\n",
       "      <td>149.646865</td>\n",
       "      <td>0.326733</td>\n",
       "      <td>1.039604</td>\n",
       "      <td>1.399340</td>\n",
       "      <td>0.729373</td>\n",
       "      <td>2.313531</td>\n",
       "      <td>0.544554</td>\n",
       "    </tr>\n",
       "    <tr>\n",
       "      <th>std</th>\n",
       "      <td>9.082101</td>\n",
       "      <td>0.466011</td>\n",
       "      <td>1.032052</td>\n",
       "      <td>17.538143</td>\n",
       "      <td>51.830751</td>\n",
       "      <td>0.356198</td>\n",
       "      <td>0.525860</td>\n",
       "      <td>22.905161</td>\n",
       "      <td>0.469794</td>\n",
       "      <td>1.161075</td>\n",
       "      <td>0.616226</td>\n",
       "      <td>1.022606</td>\n",
       "      <td>0.612277</td>\n",
       "      <td>0.498835</td>\n",
       "    </tr>\n",
       "    <tr>\n",
       "      <th>min</th>\n",
       "      <td>29.000000</td>\n",
       "      <td>0.000000</td>\n",
       "      <td>0.000000</td>\n",
       "      <td>94.000000</td>\n",
       "      <td>126.000000</td>\n",
       "      <td>0.000000</td>\n",
       "      <td>0.000000</td>\n",
       "      <td>71.000000</td>\n",
       "      <td>0.000000</td>\n",
       "      <td>0.000000</td>\n",
       "      <td>0.000000</td>\n",
       "      <td>0.000000</td>\n",
       "      <td>0.000000</td>\n",
       "      <td>0.000000</td>\n",
       "    </tr>\n",
       "    <tr>\n",
       "      <th>25%</th>\n",
       "      <td>47.500000</td>\n",
       "      <td>0.000000</td>\n",
       "      <td>0.000000</td>\n",
       "      <td>120.000000</td>\n",
       "      <td>211.000000</td>\n",
       "      <td>0.000000</td>\n",
       "      <td>0.000000</td>\n",
       "      <td>133.500000</td>\n",
       "      <td>0.000000</td>\n",
       "      <td>0.000000</td>\n",
       "      <td>1.000000</td>\n",
       "      <td>0.000000</td>\n",
       "      <td>2.000000</td>\n",
       "      <td>0.000000</td>\n",
       "    </tr>\n",
       "    <tr>\n",
       "      <th>50%</th>\n",
       "      <td>55.000000</td>\n",
       "      <td>1.000000</td>\n",
       "      <td>1.000000</td>\n",
       "      <td>130.000000</td>\n",
       "      <td>240.000000</td>\n",
       "      <td>0.000000</td>\n",
       "      <td>1.000000</td>\n",
       "      <td>153.000000</td>\n",
       "      <td>0.000000</td>\n",
       "      <td>0.800000</td>\n",
       "      <td>1.000000</td>\n",
       "      <td>0.000000</td>\n",
       "      <td>2.000000</td>\n",
       "      <td>1.000000</td>\n",
       "    </tr>\n",
       "    <tr>\n",
       "      <th>75%</th>\n",
       "      <td>61.000000</td>\n",
       "      <td>1.000000</td>\n",
       "      <td>2.000000</td>\n",
       "      <td>140.000000</td>\n",
       "      <td>274.500000</td>\n",
       "      <td>0.000000</td>\n",
       "      <td>1.000000</td>\n",
       "      <td>166.000000</td>\n",
       "      <td>1.000000</td>\n",
       "      <td>1.600000</td>\n",
       "      <td>2.000000</td>\n",
       "      <td>1.000000</td>\n",
       "      <td>3.000000</td>\n",
       "      <td>1.000000</td>\n",
       "    </tr>\n",
       "    <tr>\n",
       "      <th>max</th>\n",
       "      <td>77.000000</td>\n",
       "      <td>1.000000</td>\n",
       "      <td>3.000000</td>\n",
       "      <td>200.000000</td>\n",
       "      <td>564.000000</td>\n",
       "      <td>1.000000</td>\n",
       "      <td>2.000000</td>\n",
       "      <td>202.000000</td>\n",
       "      <td>1.000000</td>\n",
       "      <td>6.200000</td>\n",
       "      <td>2.000000</td>\n",
       "      <td>4.000000</td>\n",
       "      <td>3.000000</td>\n",
       "      <td>1.000000</td>\n",
       "    </tr>\n",
       "  </tbody>\n",
       "</table>\n",
       "</div>"
      ],
      "text/plain": [
       "              age         sex          cp      trtbps        chol         fbs  \\\n",
       "count  303.000000  303.000000  303.000000  303.000000  303.000000  303.000000   \n",
       "mean    54.366337    0.683168    0.966997  131.623762  246.264026    0.148515   \n",
       "std      9.082101    0.466011    1.032052   17.538143   51.830751    0.356198   \n",
       "min     29.000000    0.000000    0.000000   94.000000  126.000000    0.000000   \n",
       "25%     47.500000    0.000000    0.000000  120.000000  211.000000    0.000000   \n",
       "50%     55.000000    1.000000    1.000000  130.000000  240.000000    0.000000   \n",
       "75%     61.000000    1.000000    2.000000  140.000000  274.500000    0.000000   \n",
       "max     77.000000    1.000000    3.000000  200.000000  564.000000    1.000000   \n",
       "\n",
       "          restecg    thalachh        exng     oldpeak         slp         caa  \\\n",
       "count  303.000000  303.000000  303.000000  303.000000  303.000000  303.000000   \n",
       "mean     0.528053  149.646865    0.326733    1.039604    1.399340    0.729373   \n",
       "std      0.525860   22.905161    0.469794    1.161075    0.616226    1.022606   \n",
       "min      0.000000   71.000000    0.000000    0.000000    0.000000    0.000000   \n",
       "25%      0.000000  133.500000    0.000000    0.000000    1.000000    0.000000   \n",
       "50%      1.000000  153.000000    0.000000    0.800000    1.000000    0.000000   \n",
       "75%      1.000000  166.000000    1.000000    1.600000    2.000000    1.000000   \n",
       "max      2.000000  202.000000    1.000000    6.200000    2.000000    4.000000   \n",
       "\n",
       "            thall      output  \n",
       "count  303.000000  303.000000  \n",
       "mean     2.313531    0.544554  \n",
       "std      0.612277    0.498835  \n",
       "min      0.000000    0.000000  \n",
       "25%      2.000000    0.000000  \n",
       "50%      2.000000    1.000000  \n",
       "75%      3.000000    1.000000  \n",
       "max      3.000000    1.000000  "
      ]
     },
     "execution_count": 6,
     "metadata": {},
     "output_type": "execute_result"
    }
   ],
   "source": [
    "Df.describe()"
   ]
  },
  {
   "cell_type": "markdown",
   "metadata": {},
   "source": [
    "## Explore Data (all that are necessary to explore data e.g shape etc)"
   ]
  },
  {
   "cell_type": "code",
   "execution_count": 7,
   "metadata": {},
   "outputs": [
    {
     "data": {
      "text/plain": [
       "(303, 14)"
      ]
     },
     "execution_count": 7,
     "metadata": {},
     "output_type": "execute_result"
    }
   ],
   "source": [
    "Df.shape"
   ]
  },
  {
   "cell_type": "markdown",
   "metadata": {},
   "source": [
    "## Data Visualization"
   ]
  },
  {
   "cell_type": "markdown",
   "metadata": {},
   "source": [
    "## Effect of each column on output (create atleast 7-10 beautiful but different graphs that gives good insights about data)"
   ]
  },
  {
   "cell_type": "code",
   "execution_count": 8,
   "metadata": {},
   "outputs": [
    {
     "data": {
      "text/plain": [
       "<AxesSubplot:xlabel='age', ylabel='output'>"
      ]
     },
     "execution_count": 8,
     "metadata": {},
     "output_type": "execute_result"
    },
    {
     "data": {
      "image/png": "[encoded data removed]",
      "text/plain": [
       "<Figure size 432x288 with 1 Axes>"
      ]
     },
     "metadata": {
      "needs_background": "light"
     },
     "output_type": "display_data"
    }
   ],
   "source": [
    "sns.lineplot(x = Df[\"age\"], y = Df[\"output\"])"
   ]
  },
  {
   "cell_type": "code",
   "execution_count": 9,
   "metadata": {},
   "outputs": [
    {
     "data": {
      "text/plain": [
       "<AxesSubplot:xlabel='output', ylabel='exng'>"
      ]
     },
     "execution_count": 9,
     "metadata": {},
     "output_type": "execute_result"
    },
    {
     "data": {
      "image/png": "[encoded data removed]",
      "text/plain": [
       "<Figure size 432x288 with 1 Axes>"
      ]
     },
     "metadata": {
      "needs_background": "light"
     },
     "output_type": "display_data"
    }
   ],
   "source": [
    "#Create box plot for output and exng.\n",
    "sns.boxplot(x = \"output\", y = \"exng\", data = Df)\n",
    "#plt.show()"
   ]
  },
  {
   "cell_type": "code",
   "execution_count": 10,
   "metadata": {},
   "outputs": [
    {
     "data": {
      "text/plain": [
       "<AxesSubplot:xlabel='sex', ylabel='count'>"
      ]
     },
     "execution_count": 10,
     "metadata": {},
     "output_type": "execute_result"
    },
    {
     "data": {
      "image/png": "[encoded data removed]",
      "text/plain": [
       "<Figure size 432x288 with 1 Axes>"
      ]
     },
     "metadata": {
      "needs_background": "light"
     },
     "output_type": "display_data"
    }
   ],
   "source": [
    "#Find the Count of sex on the basis of 0 for Female and 1 for male.\n",
    "sns.countplot(x = Df['sex'])"
   ]
  },
  {
   "cell_type": "code",
   "execution_count": 11,
   "metadata": {},
   "outputs": [
    {
     "data": {
      "image/png": "[encoded data removed]",
      "text/plain": [
       "<Figure size 360x360 with 1 Axes>"
      ]
     },
     "metadata": {
      "needs_background": "light"
     },
     "output_type": "display_data"
    }
   ],
   "source": [
    "#Create relplot for trtbps and thall\n",
    "sns.relplot(x = Df[\"trtbps\"], y= Df[\"thall\"]);"
   ]
  },
  {
   "cell_type": "code",
   "execution_count": 12,
   "metadata": {},
   "outputs": [
    {
     "data": {
      "image/png": "[encoded data removed]",
      "text/plain": [
       "<Figure size 360x360 with 1 Axes>"
      ]
     },
     "metadata": {
      "needs_background": "light"
     },
     "output_type": "display_data"
    }
   ],
   "source": [
    "#Create catplot for output and swarm\n",
    "sns.catplot(x=\"cp\", y=\"output\", kind=\"swarm\", data=Df);"
   ]
  },
  {
   "cell_type": "code",
   "execution_count": 13,
   "metadata": {},
   "outputs": [
    {
     "data": {
      "image/png": "[encoded data removed]",
      "text/plain": [
       "<Figure size 432x288 with 1 Axes>"
      ]
     },
     "metadata": {
      "needs_background": "light"
     },
     "output_type": "display_data"
    }
   ],
   "source": [
    "sns.distplot(Df['age']);\n",
    "sns.distplot(Df['output']);"
   ]
  },
  {
   "cell_type": "code",
   "execution_count": 14,
   "metadata": {},
   "outputs": [
    {
     "data": {
      "image/png": "[encoded data removed]",
      "text/plain": [
       "<Figure size 360x360 with 1 Axes>"
      ]
     },
     "metadata": {
      "needs_background": "light"
     },
     "output_type": "display_data"
    }
   ],
   "source": [
    "plot = sns.catplot(x='exng',y='output',kind='point',data=Df)\n",
    "#plot.fig.autofmt_xdate()"
   ]
  },
  {
   "cell_type": "markdown",
   "metadata": {},
   "source": [
    "## Check Co-relation with heatmap"
   ]
  },
  {
   "cell_type": "code",
   "execution_count": 15,
   "metadata": {},
   "outputs": [
    {
     "data": {
      "image/png": "[encoded data removed]",
      "text/plain": [
       "<Figure size 1080x432 with 2 Axes>"
      ]
     },
     "metadata": {
      "needs_background": "light"
     },
     "output_type": "display_data"
    }
   ],
   "source": [
    "#sns.set_context('notebook')                           \n",
    "plt.figure(figsize=(15,6))                            \n",
    "cor = Df.corr()\n",
    "sns.heatmap(cor, annot=True, fmt='.1g');"
   ]
  },
  {
   "cell_type": "markdown",
   "metadata": {},
   "source": [
    " "
   ]
  },
  {
   "cell_type": "markdown",
   "metadata": {},
   "source": [
    "## Create Dependent & Independent Variable"
   ]
  },
  {
   "cell_type": "code",
   "execution_count": 16,
   "metadata": {},
   "outputs": [
    {
     "data": {
      "text/html": [
       "<div>\n",
       "<style scoped>\n",
       "    .dataframe tbody tr th:only-of-type {\n",
       "        vertical-align: middle;\n",
       "    }\n",
       "\n",
       "    .dataframe tbody tr th {\n",
       "        vertical-align: top;\n",
       "    }\n",
       "\n",
       "    .dataframe thead th {\n",
       "        text-align: right;\n",
       "    }\n",
       "</style>\n",
       "<table border=\"1\" class=\"dataframe\">\n",
       "  <thead>\n",
       "    <tr style=\"text-align: right;\">\n",
       "      <th></th>\n",
       "      <th>age</th>\n",
       "      <th>sex</th>\n",
       "      <th>cp</th>\n",
       "      <th>trtbps</th>\n",
       "      <th>chol</th>\n",
       "      <th>fbs</th>\n",
       "      <th>restecg</th>\n",
       "      <th>thalachh</th>\n",
       "      <th>exng</th>\n",
       "      <th>oldpeak</th>\n",
       "      <th>slp</th>\n",
       "      <th>caa</th>\n",
       "      <th>thall</th>\n",
       "    </tr>\n",
       "  </thead>\n",
       "  <tbody>\n",
       "    <tr>\n",
       "      <th>0</th>\n",
       "      <td>63</td>\n",
       "      <td>1</td>\n",
       "      <td>3</td>\n",
       "      <td>145</td>\n",
       "      <td>233</td>\n",
       "      <td>1</td>\n",
       "      <td>0</td>\n",
       "      <td>150</td>\n",
       "      <td>0</td>\n",
       "      <td>2.3</td>\n",
       "      <td>0</td>\n",
       "      <td>0</td>\n",
       "      <td>1</td>\n",
       "    </tr>\n",
       "    <tr>\n",
       "      <th>1</th>\n",
       "      <td>37</td>\n",
       "      <td>1</td>\n",
       "      <td>2</td>\n",
       "      <td>130</td>\n",
       "      <td>250</td>\n",
       "      <td>0</td>\n",
       "      <td>1</td>\n",
       "      <td>187</td>\n",
       "      <td>0</td>\n",
       "      <td>3.5</td>\n",
       "      <td>0</td>\n",
       "      <td>0</td>\n",
       "      <td>2</td>\n",
       "    </tr>\n",
       "    <tr>\n",
       "      <th>2</th>\n",
       "      <td>41</td>\n",
       "      <td>0</td>\n",
       "      <td>1</td>\n",
       "      <td>130</td>\n",
       "      <td>204</td>\n",
       "      <td>0</td>\n",
       "      <td>0</td>\n",
       "      <td>172</td>\n",
       "      <td>0</td>\n",
       "      <td>1.4</td>\n",
       "      <td>2</td>\n",
       "      <td>0</td>\n",
       "      <td>2</td>\n",
       "    </tr>\n",
       "    <tr>\n",
       "      <th>3</th>\n",
       "      <td>56</td>\n",
       "      <td>1</td>\n",
       "      <td>1</td>\n",
       "      <td>120</td>\n",
       "      <td>236</td>\n",
       "      <td>0</td>\n",
       "      <td>1</td>\n",
       "      <td>178</td>\n",
       "      <td>0</td>\n",
       "      <td>0.8</td>\n",
       "      <td>2</td>\n",
       "      <td>0</td>\n",
       "      <td>2</td>\n",
       "    </tr>\n",
       "    <tr>\n",
       "      <th>4</th>\n",
       "      <td>57</td>\n",
       "      <td>0</td>\n",
       "      <td>0</td>\n",
       "      <td>120</td>\n",
       "      <td>354</td>\n",
       "      <td>0</td>\n",
       "      <td>1</td>\n",
       "      <td>163</td>\n",
       "      <td>1</td>\n",
       "      <td>0.6</td>\n",
       "      <td>2</td>\n",
       "      <td>0</td>\n",
       "      <td>2</td>\n",
       "    </tr>\n",
       "    <tr>\n",
       "      <th>...</th>\n",
       "      <td>...</td>\n",
       "      <td>...</td>\n",
       "      <td>...</td>\n",
       "      <td>...</td>\n",
       "      <td>...</td>\n",
       "      <td>...</td>\n",
       "      <td>...</td>\n",
       "      <td>...</td>\n",
       "      <td>...</td>\n",
       "      <td>...</td>\n",
       "      <td>...</td>\n",
       "      <td>...</td>\n",
       "      <td>...</td>\n",
       "    </tr>\n",
       "    <tr>\n",
       "      <th>298</th>\n",
       "      <td>57</td>\n",
       "      <td>0</td>\n",
       "      <td>0</td>\n",
       "      <td>140</td>\n",
       "      <td>241</td>\n",
       "      <td>0</td>\n",
       "      <td>1</td>\n",
       "      <td>123</td>\n",
       "      <td>1</td>\n",
       "      <td>0.2</td>\n",
       "      <td>1</td>\n",
       "      <td>0</td>\n",
       "      <td>3</td>\n",
       "    </tr>\n",
       "    <tr>\n",
       "      <th>299</th>\n",
       "      <td>45</td>\n",
       "      <td>1</td>\n",
       "      <td>3</td>\n",
       "      <td>110</td>\n",
       "      <td>264</td>\n",
       "      <td>0</td>\n",
       "      <td>1</td>\n",
       "      <td>132</td>\n",
       "      <td>0</td>\n",
       "      <td>1.2</td>\n",
       "      <td>1</td>\n",
       "      <td>0</td>\n",
       "      <td>3</td>\n",
       "    </tr>\n",
       "    <tr>\n",
       "      <th>300</th>\n",
       "      <td>68</td>\n",
       "      <td>1</td>\n",
       "      <td>0</td>\n",
       "      <td>144</td>\n",
       "      <td>193</td>\n",
       "      <td>1</td>\n",
       "      <td>1</td>\n",
       "      <td>141</td>\n",
       "      <td>0</td>\n",
       "      <td>3.4</td>\n",
       "      <td>1</td>\n",
       "      <td>2</td>\n",
       "      <td>3</td>\n",
       "    </tr>\n",
       "    <tr>\n",
       "      <th>301</th>\n",
       "      <td>57</td>\n",
       "      <td>1</td>\n",
       "      <td>0</td>\n",
       "      <td>130</td>\n",
       "      <td>131</td>\n",
       "      <td>0</td>\n",
       "      <td>1</td>\n",
       "      <td>115</td>\n",
       "      <td>1</td>\n",
       "      <td>1.2</td>\n",
       "      <td>1</td>\n",
       "      <td>1</td>\n",
       "      <td>3</td>\n",
       "    </tr>\n",
       "    <tr>\n",
       "      <th>302</th>\n",
       "      <td>57</td>\n",
       "      <td>0</td>\n",
       "      <td>1</td>\n",
       "      <td>130</td>\n",
       "      <td>236</td>\n",
       "      <td>0</td>\n",
       "      <td>0</td>\n",
       "      <td>174</td>\n",
       "      <td>0</td>\n",
       "      <td>0.0</td>\n",
       "      <td>1</td>\n",
       "      <td>1</td>\n",
       "      <td>2</td>\n",
       "    </tr>\n",
       "  </tbody>\n",
       "</table>\n",
       "<p>303 rows × 13 columns</p>\n",
       "</div>"
      ],
      "text/plain": [
       "     age  sex  cp  trtbps  chol  fbs  restecg  thalachh  exng  oldpeak  slp  \\\n",
       "0     63    1   3     145   233    1        0       150     0      2.3    0   \n",
       "1     37    1   2     130   250    0        1       187     0      3.5    0   \n",
       "2     41    0   1     130   204    0        0       172     0      1.4    2   \n",
       "3     56    1   1     120   236    0        1       178     0      0.8    2   \n",
       "4     57    0   0     120   354    0        1       163     1      0.6    2   \n",
       "..   ...  ...  ..     ...   ...  ...      ...       ...   ...      ...  ...   \n",
       "298   57    0   0     140   241    0        1       123     1      0.2    1   \n",
       "299   45    1   3     110   264    0        1       132     0      1.2    1   \n",
       "300   68    1   0     144   193    1        1       141     0      3.4    1   \n",
       "301   57    1   0     130   131    0        1       115     1      1.2    1   \n",
       "302   57    0   1     130   236    0        0       174     0      0.0    1   \n",
       "\n",
       "     caa  thall  \n",
       "0      0      1  \n",
       "1      0      2  \n",
       "2      0      2  \n",
       "3      0      2  \n",
       "4      0      2  \n",
       "..   ...    ...  \n",
       "298    0      3  \n",
       "299    0      3  \n",
       "300    2      3  \n",
       "301    1      3  \n",
       "302    1      2  \n",
       "\n",
       "[303 rows x 13 columns]"
      ]
     },
     "execution_count": 16,
     "metadata": {},
     "output_type": "execute_result"
    }
   ],
   "source": [
    "X = Df.drop('output', axis=1)\n",
    "X"
   ]
  },
  {
   "cell_type": "code",
   "execution_count": 17,
   "metadata": {},
   "outputs": [
    {
     "data": {
      "text/plain": [
       "0      1\n",
       "1      1\n",
       "2      1\n",
       "3      1\n",
       "4      1\n",
       "      ..\n",
       "298    0\n",
       "299    0\n",
       "300    0\n",
       "301    0\n",
       "302    0\n",
       "Name: output, Length: 303, dtype: int64"
      ]
     },
     "execution_count": 17,
     "metadata": {},
     "output_type": "execute_result"
    }
   ],
   "source": [
    "y=Df['output']\n",
    "y"
   ]
  },
  {
   "cell_type": "markdown",
   "metadata": {},
   "source": [
    "## Split into Training & Testing (75% training)"
   ]
  },
  {
   "cell_type": "code",
   "execution_count": 18,
   "metadata": {},
   "outputs": [
    {
     "name": "stdout",
     "output_type": "stream",
     "text": [
      "(227, 13) (227,)\n",
      "(76, 13) (76,)\n"
     ]
    }
   ],
   "source": [
    "X_train, X_test, y_train, y_test = train_test_split(X, y, test_size=0.25, random_state=25)\n",
    "print(X_train.shape, y_train.shape)\n",
    "print(X_test.shape, y_test.shape)"
   ]
  },
  {
   "cell_type": "markdown",
   "metadata": {},
   "source": [
    "## Scale Data"
   ]
  },
  {
   "cell_type": "code",
   "execution_count": 19,
   "metadata": {},
   "outputs": [
    {
     "data": {
      "text/plain": [
       "array([[-0.9216772 , -1.45244244,  0.02550261, ...,  0.98707497,\n",
       "        -0.72044846, -0.56385146],\n",
       "       [ 1.25204461,  0.68849544, -0.93934605, ...,  0.98707497,\n",
       "         0.27071397, -0.56385146],\n",
       "       [ 0.2738698 ,  0.68849544, -0.93934605, ..., -0.63659183,\n",
       "         0.27071397,  1.165801  ],\n",
       "       ...,\n",
       "       [-1.03036329,  0.68849544, -0.93934605, ..., -0.63659183,\n",
       "         2.25303882,  1.165801  ],\n",
       "       [ 1.3607307 , -1.45244244, -0.93934605, ...,  0.98707497,\n",
       "         1.2618764 , -0.56385146],\n",
       "       [-1.35642156,  0.68849544,  0.02550261, ...,  0.98707497,\n",
       "        -0.72044846, -0.56385146]])"
      ]
     },
     "execution_count": 19,
     "metadata": {},
     "output_type": "execute_result"
    }
   ],
   "source": [
    "scaler = StandardScaler()\n",
    "X_train = scaler.fit_transform(X_train)\n",
    "X_train"
   ]
  },
  {
   "cell_type": "code",
   "execution_count": 20,
   "metadata": {},
   "outputs": [
    {
     "data": {
      "text/plain": [
       "array([[-0.26956066,  0.68849544, -0.93934605, -0.19350903, -0.824853  ,\n",
       "         2.42462118,  0.88384488,  0.28082013,  1.39572632, -0.04419294,\n",
       "        -0.63659183, -0.72044846, -4.02315638],\n",
       "       [-1.03036329,  0.68849544,  0.02550261, -0.19350903,  1.0965214 ,\n",
       "        -0.41243556, -0.9912279 ,  0.87618127, -0.71647284, -0.91652315,\n",
       "         0.98707497, -0.72044846, -0.56385146],\n",
       "       [-0.37824675, -1.45244244,  0.99035127,  0.48489329,  1.0965214 ,\n",
       "        -0.41243556, -0.9912279 , -0.31454102, -0.71647284,  0.39197217,\n",
       "         0.98707497,  0.27071397, -0.56385146],\n",
       "       [-1.57379374,  0.68849544, -0.93934605, -1.21111252, -1.50841889,\n",
       "        -0.41243556, -0.9912279 , -1.50526332,  1.39572632,  0.82813727,\n",
       "        -0.63659183, -0.72044846,  1.165801  ],\n",
       "       [-2.22591028,  0.68849544,  1.95519993, -0.7588443 , -1.23129758,\n",
       "        -0.41243556, -0.9912279 ,  1.04628446, -0.71647284, -0.91652315,\n",
       "         0.98707497, -0.72044846, -0.56385146],\n",
       "       [ 1.46941679, -1.45244244,  0.99035127, -0.64577725, -0.69552972,\n",
       "        -0.41243556, -0.9912279 , -1.46273752, -0.71647284,  0.39197217,\n",
       "        -0.63659183, -0.72044846, -0.56385146],\n",
       "       [ 1.14335852,  0.68849544,  1.95519993,  0.37182624,  0.6161778 ,\n",
       "         2.42462118, -0.9912279 ,  1.04628446, -0.71647284,  0.30473914,\n",
       "        -0.63659183,  0.27071397, -0.56385146],\n",
       "       [-1.24773547,  0.68849544, -0.93934605,  0.03262508, -0.03043858,\n",
       "         2.42462118, -0.9912279 , -0.27201523,  1.39572632, -0.82929013,\n",
       "        -0.63659183,  3.24420125,  1.165801  ],\n",
       "       [ 1.25204461, -1.45244244,  0.99035127,  0.82409445,  0.54227879,\n",
       "        -0.41243556, -0.9912279 ,  0.11071694, -0.71647284, -0.91652315,\n",
       "        -0.63659183,  0.27071397, -0.56385146],\n",
       "       [-1.35642156,  0.68849544,  0.99035127, -0.08044198, -1.26824709,\n",
       "        -0.41243556,  0.88384488,  0.02566535, -0.71647284, -0.91652315,\n",
       "         0.98707497, -0.72044846, -0.56385146],\n",
       "       [ 0.70861416, -1.45244244, -0.93934605,  0.76756093,  1.07804665,\n",
       "        -0.41243556, -0.9912279 , -0.14443784,  1.39572632, -0.04419294,\n",
       "        -0.63659183, -0.72044846,  1.165801  ],\n",
       "       [ 0.2738698 ,  0.68849544, -0.93934605,  0.03262508, -0.76942873,\n",
       "        -0.41243556,  0.88384488,  0.79112968,  1.39572632, -0.91652315,\n",
       "         0.98707497, -0.72044846,  1.165801  ],\n",
       "       [ 1.14335852,  0.68849544, -0.93934605,  0.20222566,  0.0988847 ,\n",
       "        -0.41243556, -0.9912279 , -0.95242797, -0.71647284,  1.52600144,\n",
       "        -0.63659183,  0.27071397,  1.165801  ],\n",
       "       [ 0.2738698 ,  0.68849544, -0.93934605,  1.05022856,  0.50532928,\n",
       "        -0.41243556, -0.9912279 , -1.59031491,  1.39572632, -0.39312503,\n",
       "        -0.63659183,  0.27071397, -2.29350392],\n",
       "       [ 0.49124198,  0.68849544,  1.95519993,  2.18089911,  0.72702633,\n",
       "        -0.41243556, -0.9912279 ,  0.40839752, -0.71647284, -0.74205711,\n",
       "        -0.63659183, -0.72044846,  1.165801  ],\n",
       "       [-0.16087457, -1.45244244,  0.99035127, -0.19350903, -0.60315595,\n",
       "        -0.41243556, -0.9912279 , -1.46273752, -0.71647284, -0.91652315,\n",
       "         0.98707497, -0.72044846, -4.02315638],\n",
       "       [ 0.59992807,  0.68849544, -0.93934605, -0.08044198,  0.08040994,\n",
       "        -0.41243556,  0.88384488, -0.22948943,  1.39572632,  0.30473914,\n",
       "         0.98707497,  0.27071397,  1.165801  ],\n",
       "       [ 0.49124198,  0.68849544,  0.99035127, -0.30657609, -0.56620644,\n",
       "         2.42462118,  0.88384488, -0.65474739, -0.71647284,  1.00260332,\n",
       "        -0.63659183,  0.27071397, -2.29350392],\n",
       "       [ 0.2738698 , -1.45244244, -0.93934605, -0.64577725,  1.94636008,\n",
       "        -0.41243556,  0.88384488,  0.5785007 ,  1.39572632, -0.39312503,\n",
       "         0.98707497, -0.72044846, -0.56385146],\n",
       "       [ 1.14335852,  0.68849544, -0.93934605, -0.64577725, -1.32367135,\n",
       "        -0.41243556,  0.88384488, -0.39959261, -0.71647284, -0.56759107,\n",
       "         0.98707497, -0.72044846,  1.165801  ],\n",
       "       [-0.26956066,  0.68849544,  0.02550261, -0.64577725,  1.41059222,\n",
       "        -0.41243556,  0.88384488,  0.96123287, -0.71647284, -0.74205711,\n",
       "         0.98707497, -0.72044846, -0.56385146],\n",
       "       [-0.26956066,  0.68849544, -0.93934605, -1.32417958, -0.28908513,\n",
       "         2.42462118,  0.88384488, -0.10191204, -0.71647284, -0.82929013,\n",
       "         0.98707497,  2.25303882,  1.165801  ],\n",
       "       [-0.37824675,  0.68849544,  0.99035127, -1.77644779, -0.49230743,\n",
       "        -0.41243556,  0.88384488, -0.27201523,  1.39572632,  0.1302731 ,\n",
       "        -0.63659183, -0.72044846, -0.56385146],\n",
       "       [ 0.38255589,  0.68849544, -0.93934605, -0.36310961,  0.94872337,\n",
       "        -0.41243556, -0.9912279 ,  0.91870707, -0.71647284, -0.91652315,\n",
       "         0.98707497,  1.2618764 ,  1.165801  ],\n",
       "       [ 0.81730025,  0.68849544,  0.02550261, -0.64577725,  0.59770305,\n",
       "        -0.41243556, -0.9912279 , -1.97304708, -0.71647284,  0.30473914,\n",
       "        -0.63659183,  0.27071397,  1.165801  ],\n",
       "       [ 1.03467243, -1.45244244, -0.93934605, -0.08044198,  1.00414763,\n",
       "        -0.41243556,  0.88384488, -1.16505695, -0.71647284,  0.82813727,\n",
       "        -0.63659183,  1.2618764 , -0.56385146],\n",
       "       [-0.59561893,  0.68849544,  0.02550261, -0.08044198,  0.32058174,\n",
       "        -0.41243556,  0.88384488,  0.91870707, -0.71647284, -0.39312503,\n",
       "         0.98707497, -0.72044846, -0.56385146],\n",
       "       [ 0.38255589, -1.45244244, -0.93934605, -0.08044198, -0.95417627,\n",
       "        -0.41243556,  0.88384488, -0.78232478, -0.71647284, -0.39312503,\n",
       "        -0.63659183, -0.72044846, -0.56385146],\n",
       "       [ 0.16518371, -1.45244244, -0.93934605,  3.87690492,  0.72702633,\n",
       "         2.42462118, -0.9912279 , -0.69727319,  1.39572632,  2.5727977 ,\n",
       "        -2.26025863,  1.2618764 ,  1.165801  ],\n",
       "       [ 0.49124198,  0.68849544,  1.95519993,  1.61556383,  0.44990502,\n",
       "        -0.41243556, -0.9912279 , -1.03747956, -0.71647284, -0.91652315,\n",
       "         0.98707497, -0.72044846, -0.56385146],\n",
       "       [ 0.59992807,  0.68849544, -0.93934605, -0.81537783, -0.3445094 ,\n",
       "         2.42462118,  0.88384488,  0.45092331,  1.39572632,  0.30473914,\n",
       "         0.98707497,  1.2618764 ,  1.165801  ],\n",
       "       [ 0.70861416,  0.68849544, -0.93934605,  0.37182624, -1.52689364,\n",
       "        -0.41243556, -0.9912279 , -1.03747956,  1.39572632,  2.22386561,\n",
       "        -0.63659183,  0.27071397, -0.56385146],\n",
       "       [ 1.57810288, -1.45244244,  1.95519993,  0.48489329, -0.17823661,\n",
       "        -0.41243556,  0.88384488,  0.06819114, -0.71647284,  0.65367123,\n",
       "         0.98707497,  1.2618764 , -0.56385146],\n",
       "       [-0.48693284,  0.68849544,  0.99035127, -0.13697551, -0.97265103,\n",
       "        -0.41243556,  0.88384488,  0.5785007 , -0.71647284, -0.91652315,\n",
       "         0.98707497, -0.72044846, -0.56385146],\n",
       "       [ 1.25204461,  0.68849544,  0.02550261,  1.61556383, -0.04891333,\n",
       "        -0.41243556,  0.88384488, -1.25010854,  1.39572632, -0.91652315,\n",
       "        -0.63659183,  2.25303882, -2.29350392],\n",
       "       [ 0.2738698 ,  0.68849544,  0.99035127, -0.19350903, -0.36298415,\n",
       "        -0.41243556, -0.9912279 ,  0.02566535, -0.71647284, -0.56759107,\n",
       "        -0.63659183,  0.27071397,  1.165801  ],\n",
       "       [-1.24773547,  0.68849544, -0.93934605,  1.05022856, -0.03043858,\n",
       "        -0.41243556,  0.88384488,  0.91870707, -0.71647284,  0.39197217,\n",
       "         0.98707497, -0.72044846, -0.56385146],\n",
       "       [ 0.16518371,  0.68849544,  0.02550261, -0.08044198, -0.51078218,\n",
       "        -0.41243556, -0.9912279 ,  0.5785007 , -0.71647284, -0.91652315,\n",
       "         0.98707497, -0.72044846,  1.165801  ],\n",
       "       [ 0.81730025, -1.45244244, -0.93934605,  1.61556383, -1.56384315,\n",
       "        -0.41243556, -0.9912279 , -0.18696363, -0.71647284,  4.49192417,\n",
       "        -2.26025863,  2.25303882,  1.165801  ],\n",
       "       [-0.59561893,  0.68849544,  0.99035127, -0.64577725, -1.12044906,\n",
       "        -0.41243556,  0.88384488, -0.44211841, -0.71647284,  0.82813727,\n",
       "        -0.63659183,  2.25303882,  1.165801  ],\n",
       "       [ 0.70861416,  0.68849544,  0.99035127,  1.05022856, -0.1043376 ,\n",
       "         2.42462118,  0.88384488, -0.52717   ,  1.39572632, -0.04419294,\n",
       "        -0.63659183, -0.72044846, -0.56385146],\n",
       "       [ 0.16518371, -1.45244244,  0.02550261,  0.48489329,  0.83787485,\n",
       "        -0.41243556, -0.9912279 ,  0.15324274, -0.71647284,  0.21750612,\n",
       "        -0.63659183, -0.72044846, -0.56385146],\n",
       "       [ 0.59992807, -1.45244244, -0.93934605,  1.05022856,  0.17278371,\n",
       "        -0.41243556, -0.9912279 ,  0.32334592, -0.71647284,  1.3515354 ,\n",
       "        -0.63659183,  1.2618764 ,  1.165801  ],\n",
       "       [-0.9216772 ,  0.68849544,  0.02550261, -1.71991427, -0.95417627,\n",
       "         2.42462118,  0.88384488,  0.28082013, -0.71647284, -0.91652315,\n",
       "         0.98707497, -0.72044846,  1.165801  ],\n",
       "       [ 0.38255589,  0.68849544,  0.02550261, -0.36310961, -0.52925693,\n",
       "        -0.41243556,  0.88384488, -0.22948943, -0.71647284, -0.56759107,\n",
       "        -0.63659183,  3.24420125,  1.165801  ],\n",
       "       [ 0.49124198,  0.68849544, -0.93934605,  0.37182624,  0.41295551,\n",
       "        -0.41243556, -0.9912279 ,  1.38649083, -0.71647284, -0.91652315,\n",
       "         0.98707497, -0.72044846, -0.56385146],\n",
       "       [-1.68247983, -1.45244244,  0.99035127,  0.37182624, -0.52925693,\n",
       "        -0.41243556,  0.88384488,  0.11071694, -0.71647284, -0.91652315,\n",
       "        -0.63659183, -0.72044846, -0.56385146],\n",
       "       [ 0.2738698 ,  0.68849544,  0.02550261,  1.27636267, -0.30755989,\n",
       "        -0.41243556, -0.9912279 ,  0.6210265 , -0.71647284, -0.91652315,\n",
       "         0.98707497,  0.27071397, -0.56385146],\n",
       "       [ 0.92598634, -1.45244244,  0.02550261,  0.48489329, -0.99112578,\n",
       "        -0.41243556,  0.88384488,  1.25891344, -0.71647284, -0.91652315,\n",
       "         0.98707497,  1.2618764 , -0.56385146],\n",
       "       [-1.13904938,  0.68849544,  0.02550261, -0.64577725, -0.52925693,\n",
       "        -0.41243556,  0.88384488,  0.87618127, -0.71647284, -0.91652315,\n",
       "         0.98707497, -0.72044846, -0.56385146],\n",
       "       [ 0.81730025,  0.68849544, -0.93934605, -0.64577725,  0.3390565 ,\n",
       "        -0.41243556,  0.88384488, -2.14315026,  1.39572632,  0.65367123,\n",
       "        -0.63659183,  1.2618764 ,  1.165801  ],\n",
       "       [ 0.2738698 ,  0.68849544,  0.02550261, -0.41964314,  0.22820797,\n",
       "        -0.41243556,  0.88384488, -0.35706682, -0.71647284, -0.65482409,\n",
       "         0.98707497, -0.72044846,  1.165801  ],\n",
       "       [-0.16087457,  0.68849544, -0.93934605,  0.48489329, -0.84332775,\n",
       "         2.42462118, -0.9912279 ,  0.23829433,  1.39572632,  1.78770051,\n",
       "        -2.26025863, -0.72044846,  1.165801  ],\n",
       "       [-1.35642156, -1.45244244, -0.93934605, -1.66338074,  0.30210699,\n",
       "        -0.41243556, -0.9912279 , -1.16505695, -0.71647284, -0.39312503,\n",
       "        -0.63659183, -0.72044846, -0.56385146],\n",
       "       [-0.70430502,  0.68849544, -0.93934605, -0.5327102 , -0.49230743,\n",
       "        -0.41243556, -0.9912279 ,  1.55659402, -0.71647284, -0.91652315,\n",
       "         0.98707497, -0.72044846, -0.56385146],\n",
       "       [ 0.05649762,  0.68849544, -0.93934605,  1.61556383,  0.74550108,\n",
       "        -0.41243556, -0.9912279 , -0.18696363,  1.39572632, -0.21865898,\n",
       "        -0.63659183,  0.27071397,  1.165801  ],\n",
       "       [-0.9216772 ,  0.68849544, -0.93934605,  0.48489329,  1.15194566,\n",
       "        -0.41243556,  0.88384488, -1.25010854,  1.39572632,  0.65367123,\n",
       "        -0.63659183,  1.2618764 ,  1.165801  ],\n",
       "       [-1.13904938,  0.68849544, -0.93934605, -0.64577725, -1.47146938,\n",
       "        -0.41243556,  0.88384488, -0.22948943,  1.39572632,  1.52600144,\n",
       "        -2.26025863, -0.72044846, -2.29350392],\n",
       "       [-1.46510765,  0.68849544,  0.02550261, -1.21111252, -0.25213563,\n",
       "        -0.41243556,  0.88384488,  0.15324274, -0.71647284, -0.91652315,\n",
       "         0.98707497, -0.72044846, -0.56385146],\n",
       "       [-0.9216772 ,  0.68849544,  0.99035127,  1.05022856, -0.32603464,\n",
       "        -0.41243556,  0.88384488, -0.10191204, -0.71647284,  2.22386561,\n",
       "        -0.63659183, -0.72044846, -0.56385146],\n",
       "       [ 0.05649762, -1.45244244,  0.02550261,  0.20222566,  0.02498568,\n",
       "        -0.41243556, -0.9912279 ,  0.49344911, -0.71647284,  0.30473914,\n",
       "        -0.63659183, -0.72044846, -0.56385146],\n",
       "       [-1.89985201,  0.68849544,  0.99035127, -0.08044198,  0.02498568,\n",
       "        -0.41243556,  0.88384488,  1.59911981, -0.71647284,  2.13663259,\n",
       "        -2.26025863, -0.72044846, -0.56385146],\n",
       "       [-1.35642156, -1.45244244,  0.99035127, -0.64577725, -0.73247923,\n",
       "        -0.41243556,  0.88384488,  1.00375866, -0.71647284, -0.91652315,\n",
       "        -0.63659183, -0.72044846, -0.56385146],\n",
       "       [-0.81299111,  0.68849544, -0.93934605, -1.09804547, -0.824853  ,\n",
       "        -0.41243556,  0.88384488, -0.27201523, -0.71647284, -0.82929013,\n",
       "         0.98707497, -0.72044846, -0.56385146],\n",
       "       [-0.05218848,  0.68849544,  0.99035127,  1.05022856, -0.30755989,\n",
       "        -0.41243556, -0.9912279 ,  0.66355229, -0.71647284,  0.47920519,\n",
       "         0.98707497, -0.72044846,  1.165801  ],\n",
       "       [-0.26956066,  0.68849544, -0.93934605, -0.36310961, -0.67705496,\n",
       "        -0.41243556,  0.88384488,  0.79112968, -0.71647284, -0.04419294,\n",
       "         0.98707497,  1.2618764 ,  1.165801  ],\n",
       "       [ 1.14335852,  0.68849544, -0.93934605, -1.21111252, -0.01196383,\n",
       "        -0.41243556, -0.9912279 ,  0.36587172, -0.71647284, -0.39312503,\n",
       "         0.98707497,  1.2618764 , -2.29350392],\n",
       "       [ 0.2738698 ,  0.68849544,  0.99035127,  1.05022856, -2.26588379,\n",
       "         2.42462118,  0.88384488,  1.00375866, -0.71647284, -0.74205711,\n",
       "         0.98707497,  0.27071397,  1.165801  ],\n",
       "       [-1.57379374,  0.68849544,  1.95519993,  0.48489329, -0.91722676,\n",
       "        -0.41243556,  0.88384488,  1.21638765,  1.39572632,  0.30473914,\n",
       "         0.98707497, -0.72044846,  1.165801  ],\n",
       "       [ 0.81730025, -1.45244244, -0.93934605, -0.41964314, -0.73247923,\n",
       "        -0.41243556,  0.88384488,  0.5785007 , -0.71647284, -0.91652315,\n",
       "         0.98707497, -0.72044846, -0.56385146],\n",
       "       [-0.37824675,  0.68849544, -0.93934605,  0.48489329,  0.22820797,\n",
       "        -0.41243556, -0.9912279 ,  1.55659402,  1.39572632, -0.91652315,\n",
       "         0.98707497, -0.72044846, -0.56385146],\n",
       "       [-0.16087457, -1.45244244, -0.93934605, -0.08044198,  0.28363223,\n",
       "        -0.41243556, -0.9912279 , -0.27201523, -0.71647284, -0.56759107,\n",
       "        -0.63659183, -0.72044846, -0.56385146],\n",
       "       [ 1.79547506, -1.45244244,  0.99035127, -1.21111252,  0.30210699,\n",
       "         2.42462118, -0.9912279 , -0.82485058, -0.71647284, -0.91652315,\n",
       "         0.98707497,  0.27071397, -0.56385146],\n",
       "       [-2.22591028, -1.45244244,  0.02550261, -0.7588443 , -0.71400447,\n",
       "        -0.41243556,  0.88384488,  1.81174879, -0.71647284, -0.305892  ,\n",
       "         0.98707497, -0.72044846, -0.56385146],\n",
       "       [-0.05218848,  0.68849544,  0.99035127, -0.64577725,  0.17278371,\n",
       "        -0.41243556, -0.9912279 , -0.10191204, -0.71647284, -0.56759107,\n",
       "        -0.63659183, -0.72044846,  1.165801  ],\n",
       "       [ 0.81730025, -1.45244244, -0.93934605,  1.05022856, -0.08586284,\n",
       "        -0.41243556,  0.88384488,  0.19576853,  1.39572632,  0.30473914,\n",
       "        -0.63659183, -0.72044846, -0.56385146]])"
      ]
     },
     "execution_count": 20,
     "metadata": {},
     "output_type": "execute_result"
    }
   ],
   "source": [
    "X_test = scaler.transform(X_test)\n",
    "X_test"
   ]
  },
  {
   "cell_type": "markdown",
   "metadata": {},
   "source": [
    "## Train at least 4 different machine learning models,show their accuracy & create their confusion matrix if it is a binary classification Also make ROC Curve for each model. Use as many cells as needed below. "
   ]
  },
  {
   "cell_type": "code",
   "execution_count": 21,
   "metadata": {},
   "outputs": [
    {
     "data": {
      "text/plain": [
       "DecisionTreeClassifier(random_state=25)"
      ]
     },
     "execution_count": 21,
     "metadata": {},
     "output_type": "execute_result"
    }
   ],
   "source": [
    "#Decision Tree Classifier.\n",
    "dt_clf=DecisionTreeClassifier(random_state=25)\n",
    "dt_clf.fit(X_train, y_train)"
   ]
  },
  {
   "cell_type": "code",
   "execution_count": 22,
   "metadata": {},
   "outputs": [],
   "source": [
    "dt_pred = dt_clf.predict(X_test)"
   ]
  },
  {
   "cell_type": "code",
   "execution_count": 23,
   "metadata": {},
   "outputs": [
    {
     "name": "stdout",
     "output_type": "stream",
     "text": [
      "[[23  9]\n",
      " [10 34]]\n",
      "              precision    recall  f1-score   support\n",
      "\n",
      "           0       0.70      0.72      0.71        32\n",
      "           1       0.79      0.77      0.78        44\n",
      "\n",
      "    accuracy                           0.75        76\n",
      "   macro avg       0.74      0.75      0.74        76\n",
      "weighted avg       0.75      0.75      0.75        76\n",
      "\n"
     ]
    },
    {
     "data": {
      "text/plain": [
       "75"
      ]
     },
     "execution_count": 23,
     "metadata": {},
     "output_type": "execute_result"
    }
   ],
   "source": [
    "print(confusion_matrix(y_test,dt_pred))\n",
    "print(classification_report(y_test,dt_pred))\n",
    "Decision_Tree_Accuracy = round(accuracy_score(y_test, dt_pred)*100)\n",
    "Decision_Tree_Accuracy"
   ]
  },
  {
   "cell_type": "code",
   "execution_count": 24,
   "metadata": {},
   "outputs": [
    {
     "name": "stdout",
     "output_type": "stream",
     "text": [
      "AUC: 0.7457386363636364\n"
     ]
    },
    {
     "data": {
      "image/png": "[encoded data removed]",
      "text/plain": [
       "<Figure size 720x432 with 1 Axes>"
      ]
     },
     "metadata": {
      "needs_background": "light"
     },
     "output_type": "display_data"
    }
   ],
   "source": [
    "fpr, tpr, thresholds = roc_curve(y_test, dt_pred)\n",
    "auc = roc_auc_score(y_test, dt_pred)\n",
    "print('AUC:', auc)\n",
    "\n",
    "plt.figure(figsize = (10, 6))\n",
    "plt.plot(fpr, tpr, color = 'red', label = 'ROC curve (area = %f)' % auc)\n",
    "plt.plot([-0.05, 1.05], [-0.05, 1.05], linestyle = '--', color = 'darkgreen')\n",
    "plt.xlim([-0.05, 1.05])\n",
    "plt.ylim([-0.05, 1.05])\n",
    "plt.xlabel('False Positive Rate')\n",
    "plt.ylabel('True Positive Rate')\n",
    "plt.title('ROC_AUC Curve')\n",
    "plt.legend(loc = \"lower right\")\n",
    "plt.show()"
   ]
  },
  {
   "cell_type": "code",
   "execution_count": 25,
   "metadata": {},
   "outputs": [],
   "source": [
    "#Logistic regression.\n",
    "lr_model = LogisticRegression(random_state=25)"
   ]
  },
  {
   "cell_type": "code",
   "execution_count": 26,
   "metadata": {},
   "outputs": [
    {
     "data": {
      "text/plain": [
       "LogisticRegression(random_state=25)"
      ]
     },
     "execution_count": 26,
     "metadata": {},
     "output_type": "execute_result"
    }
   ],
   "source": [
    "lr_model.fit(X_train, y_train)"
   ]
  },
  {
   "cell_type": "code",
   "execution_count": 27,
   "metadata": {},
   "outputs": [],
   "source": [
    "pred = lr_model.predict(X_test)"
   ]
  },
  {
   "cell_type": "code",
   "execution_count": 28,
   "metadata": {},
   "outputs": [
    {
     "name": "stdout",
     "output_type": "stream",
     "text": [
      "[[22 10]\n",
      " [ 5 39]]\n",
      "              precision    recall  f1-score   support\n",
      "\n",
      "           0       0.81      0.69      0.75        32\n",
      "           1       0.80      0.89      0.84        44\n",
      "\n",
      "    accuracy                           0.80        76\n",
      "   macro avg       0.81      0.79      0.79        76\n",
      "weighted avg       0.80      0.80      0.80        76\n",
      "\n",
      "80\n"
     ]
    }
   ],
   "source": [
    "print(confusion_matrix(y_test,pred))\n",
    "print(classification_report(y_test,pred))\n",
    "Logistic_regression_Accuracy = round(accuracy_score(y_test, pred)*100)\n",
    "print(Logistic_regression_Accuracy)"
   ]
  },
  {
   "cell_type": "code",
   "execution_count": 29,
   "metadata": {},
   "outputs": [
    {
     "name": "stdout",
     "output_type": "stream",
     "text": [
      "AUC: 0.7869318181818181\n"
     ]
    },
    {
     "data": {
      "image/png": "[encoded data removed]",
      "text/plain": [
       "<Figure size 720x432 with 1 Axes>"
      ]
     },
     "metadata": {
      "needs_background": "light"
     },
     "output_type": "display_data"
    }
   ],
   "source": [
    "fpr, tpr, thresholds = roc_curve(y_test, pred)\n",
    "auc = roc_auc_score(y_test, pred)\n",
    "print('AUC:', auc)\n",
    "\n",
    "plt.figure(figsize = (10, 6))\n",
    "plt.plot(fpr, tpr, color = 'red', label = 'ROC curve (area = %f)' % auc)\n",
    "plt.plot([-0.05, 1.05], [-0.05, 1.05], linestyle = '--', color = 'darkgreen')\n",
    "plt.xlim([-0.05, 1.05])\n",
    "plt.ylim([-0.05, 1.05])\n",
    "plt.xlabel('False Positive Rate')\n",
    "plt.ylabel('True Positive Rate')\n",
    "plt.title('ROC_AUC Curve')\n",
    "plt.legend(loc = \"lower right\")\n",
    "plt.show()"
   ]
  },
  {
   "cell_type": "code",
   "execution_count": 30,
   "metadata": {},
   "outputs": [],
   "source": [
    "from sklearn.neighbors import KNeighborsClassifier\n",
    "knnr = KNeighborsClassifier() \n",
    "knnr.fit(X_train, y_train )\n",
    "pred=knnr.predict(X_test)"
   ]
  },
  {
   "cell_type": "code",
   "execution_count": 31,
   "metadata": {},
   "outputs": [
    {
     "name": "stdout",
     "output_type": "stream",
     "text": [
      "[[25  7]\n",
      " [ 8 36]]\n",
      "              precision    recall  f1-score   support\n",
      "\n",
      "           0       0.76      0.78      0.77        32\n",
      "           1       0.84      0.82      0.83        44\n",
      "\n",
      "    accuracy                           0.80        76\n",
      "   macro avg       0.80      0.80      0.80        76\n",
      "weighted avg       0.80      0.80      0.80        76\n",
      "\n",
      "80\n"
     ]
    }
   ],
   "source": [
    "print(confusion_matrix(y_test,pred))\n",
    "print(classification_report(y_test,pred))\n",
    "KNN_Accuracy = round(accuracy_score(y_test, pred)*100)\n",
    "print(KNN_Accuracy )"
   ]
  },
  {
   "cell_type": "code",
   "execution_count": 32,
   "metadata": {},
   "outputs": [
    {
     "name": "stdout",
     "output_type": "stream",
     "text": [
      "AUC: 0.7997159090909092\n"
     ]
    },
    {
     "data": {
      "image/png": "[encoded data removed]",
      "text/plain": [
       "<Figure size 720x432 with 1 Axes>"
      ]
     },
     "metadata": {
      "needs_background": "light"
     },
     "output_type": "display_data"
    }
   ],
   "source": [
    "fpr, tpr, thresholds = roc_curve(y_test, pred)\n",
    "auc = roc_auc_score(y_test, pred)\n",
    "print('AUC:', auc)\n",
    "\n",
    "plt.figure(figsize = (10, 6))\n",
    "plt.plot(fpr, tpr, color = 'red', label = 'ROC curve (area = %f)' % auc)\n",
    "plt.plot([-0.05, 1.05], [-0.05, 1.05], linestyle = '--', color = 'darkgreen')\n",
    "plt.xlim([-0.05, 1.05])\n",
    "plt.ylim([-0.05, 1.05])\n",
    "plt.xlabel('False Positive Rate')\n",
    "plt.ylabel('True Positive Rate')\n",
    "plt.title('ROC_AUC Curve')\n",
    "plt.legend(loc = \"lower right\")\n",
    "plt.show()"
   ]
  },
  {
   "cell_type": "code",
   "execution_count": 33,
   "metadata": {},
   "outputs": [],
   "source": [
    " clf = RandomForestClassifier(max_depth=2, random_state=0)"
   ]
  },
  {
   "cell_type": "code",
   "execution_count": 34,
   "metadata": {},
   "outputs": [
    {
     "data": {
      "text/plain": [
       "array([1, 1, 1, 0, 1, 1, 1, 0, 1, 1, 0, 0, 0, 0, 1, 1, 0, 1, 1, 0, 1, 0,\n",
       "       1, 0, 0, 0, 1, 1, 0, 1, 0, 0, 1, 1, 1, 1, 1, 1, 0, 0, 1, 1, 0, 1,\n",
       "       0, 1, 1, 1, 1, 1, 0, 1, 0, 1, 1, 0, 0, 0, 1, 1, 1, 1, 1, 1, 1, 0,\n",
       "       1, 1, 1, 1, 1, 1, 1, 1, 1, 1], dtype=int64)"
      ]
     },
     "execution_count": 34,
     "metadata": {},
     "output_type": "execute_result"
    }
   ],
   "source": [
    "clf.fit(X_train, y_train)\n",
    "RandomForestClassifier(...)\n",
    "pred = clf.predict(X_test)\n",
    "pred"
   ]
  },
  {
   "cell_type": "code",
   "execution_count": 35,
   "metadata": {},
   "outputs": [
    {
     "name": "stdout",
     "output_type": "stream",
     "text": [
      "[[20 12]\n",
      " [ 5 39]]\n",
      "              precision    recall  f1-score   support\n",
      "\n",
      "           0       0.80      0.62      0.70        32\n",
      "           1       0.76      0.89      0.82        44\n",
      "\n",
      "    accuracy                           0.78        76\n",
      "   macro avg       0.78      0.76      0.76        76\n",
      "weighted avg       0.78      0.78      0.77        76\n",
      "\n",
      "78\n"
     ]
    }
   ],
   "source": [
    "print(confusion_matrix(y_test,pred))\n",
    "print(classification_report(y_test,pred))\n",
    "Random_Forest_Accuracy = round(accuracy_score(y_test, pred)*100)\n",
    "print(Random_Forest_Accuracy)"
   ]
  },
  {
   "cell_type": "code",
   "execution_count": 36,
   "metadata": {},
   "outputs": [
    {
     "name": "stdout",
     "output_type": "stream",
     "text": [
      "AUC: 0.7556818181818181\n"
     ]
    },
    {
     "data": {
      "image/png": "[encoded data removed]",
      "text/plain": [
       "<Figure size 720x432 with 1 Axes>"
      ]
     },
     "metadata": {
      "needs_background": "light"
     },
     "output_type": "display_data"
    }
   ],
   "source": [
    "fpr, tpr, thresholds = roc_curve(y_test, pred)\n",
    "auc = roc_auc_score(y_test, pred)\n",
    "print('AUC:', auc)\n",
    "\n",
    "plt.figure(figsize = (10, 6))\n",
    "plt.plot(fpr, tpr, color = 'red', label = 'ROC curve (area = %f)' % auc)\n",
    "plt.plot([-0.05, 1.05], [-0.05, 1.05], linestyle = '--', color = 'darkgreen')\n",
    "plt.xlim([-0.05, 1.05])\n",
    "plt.ylim([-0.05, 1.05])\n",
    "plt.xlabel('False Positive Rate')\n",
    "plt.ylabel('True Positive Rate')\n",
    "plt.title('ROC_AUC Curve')\n",
    "plt.legend(loc = \"lower right\")\n",
    "plt.show()"
   ]
  },
  {
   "cell_type": "markdown",
   "metadata": {},
   "source": [
    "## Create a dataframe add names of all models as columns and their accuracy as rows and create a bar graph from it to visualize their accuracies."
   ]
  },
  {
   "cell_type": "code",
   "execution_count": 43,
   "metadata": {},
   "outputs": [
    {
     "data": {
      "text/html": [
       "<div>\n",
       "<style scoped>\n",
       "    .dataframe tbody tr th:only-of-type {\n",
       "        vertical-align: middle;\n",
       "    }\n",
       "\n",
       "    .dataframe tbody tr th {\n",
       "        vertical-align: top;\n",
       "    }\n",
       "\n",
       "    .dataframe thead th {\n",
       "        text-align: right;\n",
       "    }\n",
       "</style>\n",
       "<table border=\"1\" class=\"dataframe\">\n",
       "  <thead>\n",
       "    <tr style=\"text-align: right;\">\n",
       "      <th></th>\n",
       "      <th>Decision Tree Classifier</th>\n",
       "      <th>Logistic Regression</th>\n",
       "      <th>KNN</th>\n",
       "      <th>Random Forest Classifier</th>\n",
       "    </tr>\n",
       "  </thead>\n",
       "  <tbody>\n",
       "    <tr>\n",
       "      <th>0</th>\n",
       "      <td>75</td>\n",
       "      <td>80</td>\n",
       "      <td>80</td>\n",
       "      <td>78</td>\n",
       "    </tr>\n",
       "  </tbody>\n",
       "</table>\n",
       "</div>"
      ],
      "text/plain": [
       "   Decision Tree Classifier  Logistic Regression  KNN  \\\n",
       "0                        75                   80   80   \n",
       "\n",
       "   Random Forest Classifier  \n",
       "0                        78  "
      ]
     },
     "execution_count": 43,
     "metadata": {},
     "output_type": "execute_result"
    }
   ],
   "source": [
    "data = {'Decision Tree Classifier': [Decision_Tree_Accuracy],\n",
    "        'Logistic Regression': [Logistic_regression_Accuracy],\n",
    "        'KNN': [KNN_Accuracy],\n",
    "        'Random Forest Classifier': [Random_Forest_Accuracy]\n",
    "        }\n",
    "\n",
    "df = pd.DataFrame(data)\n",
    "df"
   ]
  },
  {
   "cell_type": "code",
   "execution_count": 44,
   "metadata": {},
   "outputs": [
    {
     "data": {
      "image/png": "[encoded data removed]",
      "text/plain": [
       "<Figure size 864x864 with 1 Axes>"
      ]
     },
     "metadata": {
      "needs_background": "light"
     },
     "output_type": "display_data"
    }
   ],
   "source": [
    "#Bar chart on the above dataframe.\n",
    "df.plot.bar(figsize = (12, 12))\n",
    "#plt.figure(figsize=(10, 8))\n",
    "#plt.legend(x = ['Decision Tree Classifier', 'Logistic Regression', 'KNN', 'Random Forest Classifier'],loc=2)\n",
    "#plt.legend(['Decision Tree Classifier', 'Logistic Regression', 'KNN','Random Forest Classifier'], loc = 'upper left')\n",
    "plt.show()"
   ]
  },
  {
   "cell_type": "code",
   "execution_count": 45,
   "metadata": {},
   "outputs": [
    {
     "data": {
      "text/html": [
       "<div>\n",
       "<style scoped>\n",
       "    .dataframe tbody tr th:only-of-type {\n",
       "        vertical-align: middle;\n",
       "    }\n",
       "\n",
       "    .dataframe tbody tr th {\n",
       "        vertical-align: top;\n",
       "    }\n",
       "\n",
       "    .dataframe thead th {\n",
       "        text-align: right;\n",
       "    }\n",
       "</style>\n",
       "<table border=\"1\" class=\"dataframe\">\n",
       "  <thead>\n",
       "    <tr style=\"text-align: right;\">\n",
       "      <th></th>\n",
       "      <th>Models</th>\n",
       "      <th>Accuracy of Models</th>\n",
       "    </tr>\n",
       "  </thead>\n",
       "  <tbody>\n",
       "    <tr>\n",
       "      <th>0</th>\n",
       "      <td>Decision Tree Classifier</td>\n",
       "      <td>75</td>\n",
       "    </tr>\n",
       "    <tr>\n",
       "      <th>1</th>\n",
       "      <td>Logistic Regression</td>\n",
       "      <td>80</td>\n",
       "    </tr>\n",
       "    <tr>\n",
       "      <th>2</th>\n",
       "      <td>KNN</td>\n",
       "      <td>80</td>\n",
       "    </tr>\n",
       "    <tr>\n",
       "      <th>3</th>\n",
       "      <td>Random Forest Classifier</td>\n",
       "      <td>78</td>\n",
       "    </tr>\n",
       "  </tbody>\n",
       "</table>\n",
       "</div>"
      ],
      "text/plain": [
       "                     Models  Accuracy of Models\n",
       "0  Decision Tree Classifier                  75\n",
       "1       Logistic Regression                  80\n",
       "2                       KNN                  80\n",
       "3  Random Forest Classifier                  78"
      ]
     },
     "metadata": {},
     "output_type": "display_data"
    }
   ],
   "source": [
    "dat = {'Models': ['Decision Tree Classifier', 'Logistic Regression',  'KNN', 'Random Forest Classifier'], 'Accuracy of Models': [Decision_Tree_Accuracy, Logistic_regression_Accuracy, KNN_Accuracy, Random_Forest_Accuracy]}\n",
    "dt = pd.DataFrame(dat)\n",
    "display(dt)"
   ]
  },
  {
   "cell_type": "code",
   "execution_count": 46,
   "metadata": {},
   "outputs": [
    {
     "data": {
      "image/png": "[encoded data removed]",
      "text/plain": [
       "<Figure size 720x360 with 1 Axes>"
      ]
     },
     "metadata": {
      "needs_background": "light"
     },
     "output_type": "display_data"
    }
   ],
   "source": [
    "#Create barplot on the above dataframe.\n",
    "dt.plot(x='Models', y='Accuracy of Models', kind='bar', color = ['red', 'green', 'blue', 'yellow'], figsize = (10, 5),legend=None)\n",
    "#dt(plt.figure(figsize=(12,20)))\n",
    "plt.show()"
   ]
  },
  {
   "cell_type": "markdown",
   "metadata": {},
   "source": [
    "Good Luck!"
   ]
  }
 ],
 "metadata": {
  "kernelspec": {
   "display_name": "Python 3",
   "language": "python",
   "name": "python3"
  },
  "language_info": {
   "codemirror_mode": {
    "name": "ipython",
    "version": 3
   },
   "file_extension": ".py",
   "mimetype": "text/x-python",
   "name": "python",
   "nbconvert_exporter": "python",
   "pygments_lexer": "ipython3",
   "version": "3.8.8"
  }
 },
 "nbformat": 4,
 "nbformat_minor": 2
}
